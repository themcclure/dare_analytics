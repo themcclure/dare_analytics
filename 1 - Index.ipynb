{
 "cells": [
  {
   "cell_type": "markdown",
   "metadata": {
    "collapsed": true,
    "pycharm": {
     "name": "#%% md\n"
    }
   },
   "source": [
    "## Index for the UAT modeling environment\n",
    "\n",
    " - ### [1 - Index][1]\n",
    " \n",
    "    This file. The launching pad for the UAT modeling environment.\n",
    "    \n",
    " - ### [2 - Data Prep][2]\n",
    " \n",
    "    This file contains all the code that reads in the report runtime data, cleans it, puts it in a machine readable \n",
    "    form and saves the file to the `data` directory.\n",
    "    \n",
    " - ### [3 - Exploratory Data Analytics][3]\n",
    " \n",
    "    This file contains undirected data exploration work, and is for interest only.\n",
    "    \n",
    " - ### [4 - Duration Analytics][4]\n",
    "\n",
    "    This file covers analytics around the runtime duration of the reports.\n",
    "\n",
    "[1]: 1%20-%20Index.ipynb\n",
    "[2]: 2%20-%20Data%20Prep.ipynb\n",
    "[3]: 3%20-%20Exploratory%20Data%20Analysis.ipynb\n",
    "[4]: 4%20-%20Duration%20Analytics.ipynb"
   ]
  }
 ],
 "metadata": {
  "kernelspec": {
   "display_name": "Python 3",
   "language": "python",
   "name": "python3"
  },
  "language_info": {
   "codemirror_mode": {
    "name": "ipython",
    "version": 3
   },
   "file_extension": ".py",
   "mimetype": "text/x-python",
   "name": "python",
   "nbconvert_exporter": "python",
   "pygments_lexer": "ipython3",
   "version": "3.7.1"
  },
  "pycharm": {
   "stem_cell": {
    "cell_type": "raw",
    "metadata": {
     "collapsed": false
    },
    "source": []
   }
  },
  "toc": {
   "base_numbering": 1,
   "nav_menu": {},
   "number_sections": true,
   "sideBar": true,
   "skip_h1_title": true,
   "title_cell": "Table of Contents",
   "title_sidebar": "Contents",
   "toc_cell": false,
   "toc_position": {},
   "toc_section_display": true,
   "toc_window_display": false
  }
 },
 "nbformat": 4,
 "nbformat_minor": 1
}
