{
 "cells": [
  {
   "cell_type": "markdown",
   "metadata": {
    "collapsed": true,
    "pycharm": {
     "name": "#%% md\n"
    }
   },
   "source": [
    "## Index for the UAT modeling environment\n",
    "\n",
    " - ### [1 - Index][1]\n",
    " \n",
    "    This file. The launching pad for the UAT modeling environment.\n",
    "    \n",
    " - ### [2 - Data Prep][2]\n",
    " \n",
    "    This file contains all the code that reads in the report runtime data, cleans it, puts it in a machine readable \n",
    "    form and saves the file to the `data` directory.\n",
    "    \n",
    " - ### [3 - Exploratory Data Analytics][3]\n",
    " \n",
    "    This file contains undirected data exploration work, and is for interest only.\n",
    "    \n",
    " - ### [4 - Duration Analytics][4]\n",
    "\n",
    "    This file covers analytics around the runtime duration of the reports.\n",
    "\n",
    "[1]: 1%20-%20Index.ipynb\n",
    "[2]: 2%20-%20Data%20Prep.ipynb\n",
    "[3]: 3%20-%20Exploratory%20Data%20Analysis.ipynb\n",
    "[4]: 4%20-%20Duration%20Analytics.ipynb"
   ]
  }
 ],
 "metadata": {
  "language_info": {
   "codemirror_mode": {
    "name": "ipython",
    "version": 2
   },
   "file_extension": ".py",
   "mimetype": "text/x-python",
   "name": "python",
   "nbconvert_exporter": "python",
   "pygments_lexer": "ipython2",
   "version": "2.7.6"
  },
  "kernelspec": {
   "name": "python3",
   "language": "python",
   "display_name": "Python 3"
  },
  "pycharm": {
   "stem_cell": {
    "cell_type": "raw",
    "source": [],
    "metadata": {
     "collapsed": false
    }
   }
  }
 },
 "nbformat": 4,
 "nbformat_minor": 0
}
