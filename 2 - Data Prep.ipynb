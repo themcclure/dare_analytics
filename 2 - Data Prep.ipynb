{
 "cells": [
  {
   "cell_type": "markdown",
   "source": [
    "## Load and prep the data for processing\n"
   ],
   "metadata": {
    "collapsed": false
   }
  },
  {
   "cell_type": "code",
   "execution_count": 70,
   "metadata": {
    "collapsed": true,
    "pycharm": {
     "is_executing": false
    }
   },
   "outputs": [],
   "source": [
    "import datetime\n",
    "import pandas as pd\n",
    "from pathlib import Path\n",
    "\n",
    "# prep the environment\n",
    "data_dir = Path.cwd() / \"data\"\n",
    "uat_file_name = \"ssrs report execution times.csv\"\n",
    "uat_file = data_dir / uat_file_name\n",
    "data_file = data_dir / \"uat_data.pkl\"\n",
    "uat_start = datetime.datetime(2019, 7, 22)\n"
   ]
  },
  {
   "cell_type": "code",
   "execution_count": 71,
   "outputs": [],
   "source": [
    "# load the UAT runtime data\n",
    "if uat_file.exists():\n",
    "    raw_df = pd.read_csv(uat_file)\n",
    "else:\n",
    "    print(f\"Processed data missing, please run the Data Prep notebook first.\")\n",
    "    exit(-1)\n"
   ],
   "metadata": {
    "collapsed": false,
    "pycharm": {
     "name": "#%%\n",
     "is_executing": false
    }
   }
  },
  {
   "cell_type": "markdown",
   "source": [
    "### Select Key Columns:\n",
    "- All (for now)\n"
   ],
   "metadata": {
    "collapsed": false
   }
  },
  {
   "cell_type": "code",
   "execution_count": 72,
   "outputs": [],
   "source": [
    "# select key columns\n",
    "uat_df = raw_df\n"
   ],
   "metadata": {
    "collapsed": false,
    "pycharm": {
     "name": "#%%\n",
     "is_executing": false
    }
   }
  },
  {
   "cell_type": "markdown",
   "source": [
    "### Format Columns:\n",
    "1. DateTime columns = StartTime, EndTime\n"
   ],
   "metadata": {
    "collapsed": false
   }
  },
  {
   "cell_type": "code",
   "execution_count": 73,
   "outputs": [],
   "source": [
    "uat_df['StartTime'] = pd.to_datetime(uat_df['StartTime'], infer_datetime_format=True)\n",
    "uat_df['StopTime'] = pd.to_datetime(uat_df['StopTime'], infer_datetime_format=True)\n"
   ],
   "metadata": {
    "collapsed": false,
    "pycharm": {
     "name": "#%%\n",
     "is_executing": false
    }
   }
  },
  {
   "cell_type": "markdown",
   "source": [
    "### Clean Invalid Rows:\n",
    "1. Rows with NULL in the following columns:\n",
    "  - User\n",
    "  - ReportPath\n",
    "1. Rows with StartTime before the start of UAT\n",
    "\n",
    "  "
   ],
   "metadata": {
    "collapsed": false
   }
  },
  {
   "cell_type": "code",
   "execution_count": 74,
   "outputs": [],
   "source": [
    "# clean invalid the rows\n",
    "uat_df.dropna(subset=['User', 'ReportPath'], inplace=True)\n",
    "\n",
    "# clean pre-UAT rows\n",
    "uat_df = uat_df[uat_df['StartTime'] >= uat_start]\n"
   ],
   "metadata": {
    "collapsed": false,
    "pycharm": {
     "name": "#%%\n",
     "is_executing": false
    }
   }
  },
  {
   "cell_type": "markdown",
   "source": [
    "### Create Derived Fields:\n",
    "1. DurationTotal - the sum of the 3 duration columns\n",
    "1. DurationTotalSec - converting DurationTotal to seconds\n",
    "1. DurationDataRetrievalSec - converting DurationDataRetrieval to seconds\n",
    "1. DurationProcessingSec - converting DurationProcessing to seconds\n",
    "1. DurationRenderingSec - converting DurationRendering to seconds\n",
    "1. ReportGroup - the broad group of users (directory)\n",
    "1. ReportName - the name portion of the report\n",
    "1. Agency - the Agency of the user who ran the report\n",
    "1. DimCount - a count of how many times this report execution called a /*Dim record \n",
    "   (then remove the /*Dim rows from the DataFrame)\n"
   ],
   "metadata": {
    "collapsed": false
   }
  },
  {
   "cell_type": "code",
   "execution_count": 75,
   "outputs": [
    {
     "name": "stderr",
     "text": [
      "/Users/mcclure/PycharmProjects/dare_analytics/venv/lib/python3.7/site-packages/ipykernel_launcher.py:2: SettingWithCopyWarning: \nA value is trying to be set on a copy of a slice from a DataFrame.\nTry using .loc[row_indexer,col_indexer] = value instead\n\nSee the caveats in the documentation: http://pandas.pydata.org/pandas-docs/stable/user_guide/indexing.html#returning-a-view-versus-a-copy\n  \n/Users/mcclure/PycharmProjects/dare_analytics/venv/lib/python3.7/site-packages/ipykernel_launcher.py:3: SettingWithCopyWarning: \nA value is trying to be set on a copy of a slice from a DataFrame.\nTry using .loc[row_indexer,col_indexer] = value instead\n\nSee the caveats in the documentation: http://pandas.pydata.org/pandas-docs/stable/user_guide/indexing.html#returning-a-view-versus-a-copy\n  This is separate from the ipykernel package so we can avoid doing imports until\n/Users/mcclure/PycharmProjects/dare_analytics/venv/lib/python3.7/site-packages/ipykernel_launcher.py:4: SettingWithCopyWarning: \nA value is trying to be set on a copy of a slice from a DataFrame.\nTry using .loc[row_indexer,col_indexer] = value instead\n\nSee the caveats in the documentation: http://pandas.pydata.org/pandas-docs/stable/user_guide/indexing.html#returning-a-view-versus-a-copy\n  after removing the cwd from sys.path.\n/Users/mcclure/PycharmProjects/dare_analytics/venv/lib/python3.7/site-packages/ipykernel_launcher.py:5: SettingWithCopyWarning: \nA value is trying to be set on a copy of a slice from a DataFrame.\nTry using .loc[row_indexer,col_indexer] = value instead\n\nSee the caveats in the documentation: http://pandas.pydata.org/pandas-docs/stable/user_guide/indexing.html#returning-a-view-versus-a-copy\n  \"\"\"\n/Users/mcclure/PycharmProjects/dare_analytics/venv/lib/python3.7/site-packages/ipykernel_launcher.py:6: SettingWithCopyWarning: \nA value is trying to be set on a copy of a slice from a DataFrame.\nTry using .loc[row_indexer,col_indexer] = value instead\n\nSee the caveats in the documentation: http://pandas.pydata.org/pandas-docs/stable/user_guide/indexing.html#returning-a-view-versus-a-copy\n  \n/Users/mcclure/PycharmProjects/dare_analytics/venv/lib/python3.7/site-packages/ipykernel_launcher.py:8: SettingWithCopyWarning: \nA value is trying to be set on a copy of a slice from a DataFrame.\nTry using .loc[row_indexer,col_indexer] = value instead\n\nSee the caveats in the documentation: http://pandas.pydata.org/pandas-docs/stable/user_guide/indexing.html#returning-a-view-versus-a-copy\n  \n/Users/mcclure/PycharmProjects/dare_analytics/venv/lib/python3.7/site-packages/ipykernel_launcher.py:9: SettingWithCopyWarning: \nA value is trying to be set on a copy of a slice from a DataFrame.\nTry using .loc[row_indexer,col_indexer] = value instead\n\nSee the caveats in the documentation: http://pandas.pydata.org/pandas-docs/stable/user_guide/indexing.html#returning-a-view-versus-a-copy\n  if __name__ == '__main__':\n"
     ],
     "output_type": "stream"
    }
   ],
   "source": [
    "# create derived fields\n",
    "uat_df['DurationTotal'] = uat_df['DurationDataRetrieval'] + uat_df['DurationProcessing'] + uat_df['DurationRendering']\n",
    "uat_df['DurationTotalSec'] = uat_df['DurationTotal'] / 1000\n",
    "uat_df['DurationDataRetrievalSec'] = uat_df['DurationDataRetrieval'] / 1000\n",
    "uat_df['DurationProcessingSec'] = uat_df['DurationProcessing'] / 1000\n",
    "uat_df['DurationRenderingSec'] = uat_df['DurationRendering'] / 1000\n",
    "uat_df[['ReportGroup', 'ReportName']] = uat_df['ReportPath'].str.extract('^/(?P<UserGroup>.*)/(?P<ReportName>.*$)')[['UserGroup', 'ReportName']]\n",
    "uat_df['ReportGroup'] = uat_df['ReportGroup'].astype('category')\n",
    "uat_df['ReportName'] = uat_df['ReportName'].astype('category')\n",
    "# TODO: Add Agency\n",
    "# TODO: DimCount (et al)\n"
   ],
   "metadata": {
    "collapsed": false,
    "pycharm": {
     "name": "#%%\n",
     "is_executing": false
    }
   }
  },
  {
   "cell_type": "markdown",
   "source": [
    "### Save the processed DataFrame"
   ],
   "metadata": {
    "collapsed": false
   }
  },
  {
   "cell_type": "code",
   "execution_count": 76,
   "outputs": [
    {
     "name": "stdout",
     "text": [
      "Updated /Users/mcclure/PycharmProjects/dare_analytics/data/uat_data.pkl on 2019-08-01 10:54:33.060901\n"
     ],
     "output_type": "stream"
    }
   ],
   "source": [
    "# save the loaded data\n",
    "uat_df.to_pickle(data_file)\n",
    "print(f\"Updated {data_file} on {datetime.datetime.now()}\")"
   ],
   "metadata": {
    "collapsed": false,
    "pycharm": {
     "name": "#%%\n",
     "is_executing": false
    }
   }
  }
 ],
 "metadata": {
  "language_info": {
   "codemirror_mode": {
    "name": "ipython",
    "version": 2
   },
   "file_extension": ".py",
   "mimetype": "text/x-python",
   "name": "python",
   "nbconvert_exporter": "python",
   "pygments_lexer": "ipython2",
   "version": "2.7.6"
  },
  "kernelspec": {
   "name": "python3",
   "language": "python",
   "display_name": "Python 3"
  },
  "pycharm": {
   "stem_cell": {
    "cell_type": "raw",
    "source": [],
    "metadata": {
     "collapsed": false
    }
   }
  }
 },
 "nbformat": 4,
 "nbformat_minor": 0
}
